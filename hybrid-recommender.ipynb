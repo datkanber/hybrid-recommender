{
 "cells": [
  {
   "cell_type": "markdown",
   "id": "99457fed",
   "metadata": {
    "_cell_guid": "b1076dfc-b9ad-4769-8c92-a6c4dae69d19",
    "_uuid": "8f2839f25d086af736a60e9eeb907d3b93b6e0e5",
    "execution": {
     "iopub.execute_input": "2021-12-06T10:45:43.20134Z",
     "iopub.status.busy": "2021-12-06T10:45:43.201141Z",
     "iopub.status.idle": "2021-12-06T10:45:43.228989Z",
     "shell.execute_reply": "2021-12-06T10:45:43.228171Z",
     "shell.execute_reply.started": "2021-12-06T10:45:43.201316Z"
    },
    "papermill": {
     "duration": 0.011679,
     "end_time": "2024-07-04T20:29:40.750046",
     "exception": false,
     "start_time": "2024-07-04T20:29:40.738367",
     "status": "completed"
    },
    "tags": []
   },
   "source": [
    "<h2 style='background:#11489c; border:0; color:white'><center>Hybrid Recommendation Systems</center></h2>\n",
    "\n",
    "It is a study on hybrid recommendation systems, presented in detail and in a functionalized form\n",
    "\n",
    "<a href=\"https://ibb.co/fNjqWSX\"><img src=\"https://i.ibb.co/vd0VWBc/e902a8f8-1343-4987-b5ae-25dc76f32a72.png\" alt=\"e902a8f8-1343-4987-b5ae-25dc76f32a72\" border=\"0\"></a>\n",
    "\n",
    "<h2 style='background:#11489c; border:0; color:white'><center>Business Problem</center></h2>\n",
    "\n",
    "* Item-based and for the user whose ID is given\n",
    "* User-based recommender methods\n",
    "* Make a guess using\n",
    "\n",
    "<h2 style='background:#11489c; border:0; color:white'><center>About the Dataset</center></h2>\n",
    "\n",
    "* The dataset was provided by MovieLens, a movie recommendation service\n",
    "\n",
    "* It includes the movies and the rating scores made for these movies contains\n",
    "\n",
    "* It contains 2,000,0263 ratings across 27,278 movies\n",
    "\n",
    "* This data was created by 138,493 users from January 09, 1995 to March 31, 2015 was created between This data set was published on 17 October 2016 was created\n",
    "\n",
    "* Users are randomly selected. All selected users voted for at least 20 movies information is available\n",
    "\n",
    "<h2 style='background:#11489c; border:0; color:white'><center>Variables</center></h2>\n",
    "\n",
    "<span style=\"color:blue\">movie.csv</span>\n",
    "* movieId – Unique movie number. (UniqueID)\n",
    "* title – Movie name\n",
    "\n",
    "<span style=\"color:blue\">rating.csv</span>\n",
    "* userid – Unique user number. (UniqueID)\n",
    "* movieId – Unique movie number. (UniqueID)\n",
    "* rating – The rating given to the movie by the user\n",
    "* timestamp – Evaluation date"
   ]
  },
  {
   "cell_type": "code",
   "execution_count": 1,
   "id": "219cb68d",
   "metadata": {
    "execution": {
     "iopub.execute_input": "2024-07-04T20:29:40.791808Z",
     "iopub.status.busy": "2024-07-04T20:29:40.790551Z",
     "iopub.status.idle": "2024-07-04T20:29:40.814710Z",
     "shell.execute_reply": "2024-07-04T20:29:40.813800Z",
     "shell.execute_reply.started": "2021-12-06T10:56:54.139277Z"
    },
    "papermill": {
     "duration": 0.054612,
     "end_time": "2024-07-04T20:29:40.814923",
     "exception": false,
     "start_time": "2024-07-04T20:29:40.760311",
     "status": "completed"
    },
    "tags": []
   },
   "outputs": [],
   "source": [
    "import pandas as pd\n",
    "pd.set_option('display.max_columns', None)\n",
    "from mlxtend.frequent_patterns import apriori, association_rules\n",
    "\n",
    "def check_df(dataframe, head=5):\n",
    "    print(\"########## SHAPE ##########\")\n",
    "    print(dataframe.shape)\n",
    "    print(\"########## TYPES ##########\")\n",
    "    print(dataframe.dtypes)\n",
    "    print(\"########## HEAD ##########\")\n",
    "    print(dataframe.head(head))\n",
    "    print(\"########## TAIL ##########\")\n",
    "    print(dataframe.tail(head))\n",
    "    print(\"########## NA ##########\")\n",
    "    print(dataframe.isnull().sum())\n",
    "    print(\"########## QUANTILES ##########\")\n",
    "    print(dataframe.quantile([0, 0.05, 0.50, 0.95, 0.99, 1]).T)\n",
    "\n",
    "def outlier_thresholds(dataframe, variable):\n",
    "    quartile1 = dataframe[variable].quantile(0.01)\n",
    "    quartile3 = dataframe[variable].quantile(0.99)\n",
    "    interquantile_range = quartile3 - quartile1\n",
    "    up_limit = quartile3 + 1.5 * interquantile_range\n",
    "    low_limit = quartile1 - 1.5 * interquantile_range\n",
    "    return low_limit, up_limit\n",
    "\n",
    "def replace_with_thresholds(dataframe, variable):\n",
    "    low_limit, up_limit = outlier_thresholds(dataframe, variable)\n",
    "    dataframe.loc[(dataframe[variable] < low_limit), variable] = low_limit\n",
    "    dataframe.loc[(dataframe[variable] > up_limit), variable] = up_limit\n",
    "\n",
    "def retail_data_prep(dataframe):\n",
    "    dataframe.dropna(inplace=True)\n",
    "    dataframe = dataframe[~dataframe[\"Invoice\"].str.contains(\"C\", na=False)]\n",
    "    dataframe = dataframe[dataframe[\"Quantity\"] > 0]\n",
    "    dataframe = dataframe[dataframe[\"Price\"] > 0]\n",
    "    replace_with_thresholds(dataframe, \"Quantity\")\n",
    "    replace_with_thresholds(dataframe, \"Price\")\n",
    "    return dataframe\n",
    "\n",
    "def create_invoice_product_df(dataframe, id=True):\n",
    "    if id:\n",
    "        return dataframe.groupby(['Invoice', \"StockCode\"])['Quantity'].sum().unstack().fillna(0). \\\n",
    "            applymap(lambda x: 1 if x > 0 else 0)\n",
    "    else:\n",
    "        return dataframe.groupby(['Invoice', 'Description'])['Quantity'].sum().unstack().fillna(0). \\\n",
    "            applymap(lambda x: 1 if x > 0 else 0)\n",
    "\n",
    "def check_id(dataframe, stock_code):\n",
    "    product_name = dataframe[dataframe[\"StockCode\"] == stock_code][[\"Description\"]].values[0].tolist()\n",
    "    print(product_name)\n",
    "\n",
    "def create_rules(dataframe, id=True, country=\"France\"):\n",
    "    dataframe = dataframe[dataframe['Country'] == country]\n",
    "    dataframe = create_invoice_product_df(dataframe, id)\n",
    "    frequent_itemsets = apriori(dataframe, min_support=0.01, use_colnames=True)\n",
    "    rules = association_rules(frequent_itemsets, metric=\"support\", min_threshold=0.01)\n",
    "    return rules\n",
    "\n",
    "def arl_recommender(rules_df, product_id, rec_count=1):\n",
    "    sorted_rules = rules_df.sort_values(\"lift\", ascending=False)\n",
    "    recommendation_list = []\n",
    "    for i, product in enumerate(sorted_rules[\"antecedents\"]):\n",
    "        for j in list(product):\n",
    "            if j == product_id:\n",
    "                recommendation_list.append(list(sorted_rules.iloc[i][\"consequents\"])[0])\n",
    "\n",
    "    return recommendation_list[0:rec_count]"
   ]
  },
  {
   "cell_type": "code",
   "execution_count": 2,
   "id": "c5dfef67",
   "metadata": {
    "execution": {
     "iopub.execute_input": "2024-07-04T20:29:40.842785Z",
     "iopub.status.busy": "2024-07-04T20:29:40.841988Z",
     "iopub.status.idle": "2024-07-04T20:29:40.844706Z",
     "shell.execute_reply": "2024-07-04T20:29:40.844008Z",
     "shell.execute_reply.started": "2021-12-06T10:56:54.162194Z"
    },
    "papermill": {
     "duration": 0.019915,
     "end_time": "2024-07-04T20:29:40.844865",
     "exception": false,
     "start_time": "2024-07-04T20:29:40.824950",
     "status": "completed"
    },
    "tags": []
   },
   "outputs": [],
   "source": [
    "import pandas as pd\n",
    "pd.pandas.set_option('display.max_columns', 5)\n",
    "\n",
    "def create_user_movie_df():\n",
    "    import pandas as pd\n",
    "    movie = pd.read_csv('../input/movielens-20m-dataset/movie.csv')\n",
    "    rating = pd.read_csv('../input/movielens-20m-dataset/rating.csv')\n",
    "    df = movie.merge(rating, how=\"left\", on=\"movieId\")\n",
    "    comment_counts = pd.DataFrame(df[\"title\"].value_counts())\n",
    "    rare_movies = comment_counts[comment_counts[\"title\"] <= 1000].index\n",
    "    common_movies = df[~df[\"title\"].isin(rare_movies)]\n",
    "    user_movie_df = common_movies.pivot_table(index=[\"userId\"], columns=[\"title\"], values=\"rating\")\n",
    "    return user_movie_df"
   ]
  },
  {
   "cell_type": "code",
   "execution_count": 3,
   "id": "b659638f",
   "metadata": {
    "execution": {
     "iopub.execute_input": "2024-07-04T20:29:40.870265Z",
     "iopub.status.busy": "2024-07-04T20:29:40.869442Z",
     "iopub.status.idle": "2024-07-04T20:31:02.999190Z",
     "shell.execute_reply": "2024-07-04T20:31:02.998527Z"
    },
    "papermill": {
     "duration": 82.144598,
     "end_time": "2024-07-04T20:31:02.999376",
     "exception": false,
     "start_time": "2024-07-04T20:29:40.854778",
     "status": "completed"
    },
    "tags": []
   },
   "outputs": [],
   "source": [
    "user_movie_df = create_user_movie_df()"
   ]
  },
  {
   "cell_type": "code",
   "execution_count": 4,
   "id": "f1e59e56",
   "metadata": {
    "execution": {
     "iopub.execute_input": "2024-07-04T20:31:03.027974Z",
     "iopub.status.busy": "2024-07-04T20:31:03.026578Z",
     "iopub.status.idle": "2024-07-04T20:31:03.041211Z",
     "shell.execute_reply": "2024-07-04T20:31:03.041766Z"
    },
    "papermill": {
     "duration": 0.032515,
     "end_time": "2024-07-04T20:31:03.042059",
     "exception": false,
     "start_time": "2024-07-04T20:31:03.009544",
     "status": "completed"
    },
    "tags": []
   },
   "outputs": [],
   "source": [
    "# Determining the Movies Watched by the User to Suggest\n",
    "\n",
    "random_user = 108170\n",
    "random_user_df = user_movie_df[user_movie_df.index == random_user]\n",
    "movies_watched = random_user_df.columns[random_user_df.notna().any()].tolist()"
   ]
  },
  {
   "cell_type": "code",
   "execution_count": 5,
   "id": "5b77e358",
   "metadata": {
    "execution": {
     "iopub.execute_input": "2024-07-04T20:31:03.135933Z",
     "iopub.status.busy": "2024-07-04T20:31:03.070167Z",
     "iopub.status.idle": "2024-07-04T20:31:03.505700Z",
     "shell.execute_reply": "2024-07-04T20:31:03.505016Z"
    },
    "papermill": {
     "duration": 0.453009,
     "end_time": "2024-07-04T20:31:03.505876",
     "exception": false,
     "start_time": "2024-07-04T20:31:03.052867",
     "status": "completed"
    },
    "tags": []
   },
   "outputs": [],
   "source": [
    "# Accessing Data and Ids of Other Users Watching Same Movies\n",
    "\n",
    "movies_watched_df = user_movie_df[movies_watched]\n",
    "user_movie_count = movies_watched_df.T.notnull().sum()\n",
    "user_movie_count = user_movie_count.reset_index()\n",
    "user_movie_count.columns = [\"userId\", \"movie_count\"]\n",
    "percent = len(movies_watched) * 60 / 100\n",
    "users_same_movies = user_movie_count[user_movie_count[\"movie_count\"] > percent][\"userId\"]"
   ]
  },
  {
   "cell_type": "code",
   "execution_count": 6,
   "id": "6bfb2bac",
   "metadata": {
    "execution": {
     "iopub.execute_input": "2024-07-04T20:31:03.534939Z",
     "iopub.status.busy": "2024-07-04T20:31:03.534147Z",
     "iopub.status.idle": "2024-07-04T20:31:26.074958Z",
     "shell.execute_reply": "2024-07-04T20:31:26.074236Z"
    },
    "papermill": {
     "duration": 22.55923,
     "end_time": "2024-07-04T20:31:26.075138",
     "exception": false,
     "start_time": "2024-07-04T20:31:03.515908",
     "status": "completed"
    },
    "tags": []
   },
   "outputs": [],
   "source": [
    "# Determining the Users to be Suggested and the Users Most Similar to the User\n",
    "\n",
    "final_df = pd.concat([movies_watched_df[movies_watched_df.index.isin(users_same_movies.index)],\n",
    "                      random_user_df[movies_watched]])\n",
    "\n",
    "corr_df = final_df.T.corr().unstack().sort_values().drop_duplicates()\n",
    "corr_df = pd.DataFrame(corr_df, columns=[\"corr\"])\n",
    "corr_df.index.names = ['user_id_1', 'user_id_2']\n",
    "corr_df = corr_df.reset_index()\n",
    "\n",
    "top_users = corr_df[(corr_df[\"user_id_1\"] == random_user) & (corr_df[\"corr\"] >= 0.65)][\n",
    "    [\"user_id_2\", \"corr\"]].reset_index(drop=True)\n",
    "\n",
    "top_users = top_users.sort_values(by='corr', ascending=False)\n",
    "\n",
    "top_users.rename(columns={\"user_id_2\": \"userId\"}, inplace=True)\n",
    "\n",
    "rating = pd.read_csv('../input/movielens-20m-dataset/rating.csv')\n",
    "top_users_ratings = top_users.merge(rating[[\"userId\", \"movieId\", \"rating\"]], how='inner')"
   ]
  },
  {
   "cell_type": "code",
   "execution_count": 7,
   "id": "9ade2231",
   "metadata": {
    "execution": {
     "iopub.execute_input": "2024-07-04T20:31:26.104248Z",
     "iopub.status.busy": "2024-07-04T20:31:26.103393Z",
     "iopub.status.idle": "2024-07-04T20:31:26.111326Z",
     "shell.execute_reply": "2024-07-04T20:31:26.111936Z"
    },
    "papermill": {
     "duration": 0.026823,
     "end_time": "2024-07-04T20:31:26.112157",
     "exception": false,
     "start_time": "2024-07-04T20:31:26.085334",
     "status": "completed"
    },
    "tags": []
   },
   "outputs": [],
   "source": [
    "# Calculating Weighted Average Recommendation Score and Keeping Top 5 Movies\n",
    "\n",
    "top_users_ratings['weighted_rating'] = top_users_ratings['corr'] * top_users_ratings['rating']\n",
    "\n",
    "top_users_ratings.groupby('movieId').agg({\"weighted_rating\": \"mean\"})\n",
    "\n",
    "recommendation_df = top_users_ratings.groupby('movieId').agg({\"weighted_rating\": \"mean\"})\n",
    "recommendation_df = recommendation_df.reset_index()"
   ]
  },
  {
   "cell_type": "code",
   "execution_count": 8,
   "id": "cfb9647d",
   "metadata": {
    "execution": {
     "iopub.execute_input": "2024-07-04T20:31:26.142587Z",
     "iopub.status.busy": "2024-07-04T20:31:26.141685Z",
     "iopub.status.idle": "2024-07-04T20:31:26.196174Z",
     "shell.execute_reply": "2024-07-04T20:31:26.195414Z"
    },
    "papermill": {
     "duration": 0.073096,
     "end_time": "2024-07-04T20:31:26.196346",
     "exception": false,
     "start_time": "2024-07-04T20:31:26.123250",
     "status": "completed"
    },
    "tags": []
   },
   "outputs": [
    {
     "data": {
      "text/plain": [
       "Int64Index([0, 1, 2, 3, 4], dtype='int64')"
      ]
     },
     "execution_count": 8,
     "metadata": {},
     "output_type": "execute_result"
    }
   ],
   "source": [
    "# Let's get weighted_rating greater than 4:\n",
    "recommendation_df[recommendation_df[\"weighted_rating\"] > 4]\n",
    "movies_to_be_recommend = recommendation_df[recommendation_df[\"weighted_rating\"] > 4].sort_values(\"weighted_rating\", ascending=False)[0:5]\n",
    "\n",
    "movie = pd.read_csv('../input/movielens-20m-dataset/movie.csv')\n",
    "movies_to_be_recommend.merge(movie[[\"movieId\", \"title\"]]).index"
   ]
  },
  {
   "cell_type": "code",
   "execution_count": 9,
   "id": "062beee4",
   "metadata": {
    "execution": {
     "iopub.execute_input": "2024-07-04T20:31:26.226090Z",
     "iopub.status.busy": "2024-07-04T20:31:26.225271Z",
     "iopub.status.idle": "2024-07-04T20:31:43.834304Z",
     "shell.execute_reply": "2024-07-04T20:31:43.833601Z"
    },
    "papermill": {
     "duration": 17.626638,
     "end_time": "2024-07-04T20:31:43.834466",
     "exception": false,
     "start_time": "2024-07-04T20:31:26.207828",
     "status": "completed"
    },
    "tags": []
   },
   "outputs": [],
   "source": [
    "###########################################\n",
    "# Step 6: Item-Based Recommendation\n",
    "###########################################\n",
    "\n",
    "# Make an item-based suggestion based on the name of the movie that the user has watched with the highest score.\n",
    "# Make 10 suggestions with 5 suggestions user-based and 5 suggestions item-based.\n",
    "\n",
    "# Clue:\n",
    "\n",
    "# user = 108170\n",
    "\n",
    "# movie = pd.read_csv('datasets/movie_lens_dataset/movie.csv')\n",
    "# rating = pd.read_csv('datasets/movie_lens_dataset/rating.csv')\n",
    "#\n",
    "# Receiving the id of the movie with the most recent score from the movies that the user to be recommended gives 5 points:\n",
    "# movie_id = rating[(rating[\"userId\"] == user) & (rating[\"rating\"] == 5.0)]. \\\n",
    "# sort_values(by=\"timestamp\", ascending=False)[\"movieId\"][0:1].values[0]\n",
    "#\n",
    "\n",
    "user = 108170\n",
    "\n",
    "movie = pd.read_csv('../input/movielens-20m-dataset/movie.csv')\n",
    "rating = pd.read_csv('../input/movielens-20m-dataset/rating.csv')\n",
    "\n",
    "# Receiving the id of the movie with the most recent score from the movies that the user to be recommended gives 5 points:\n",
    "movie_id = rating[(rating[\"userId\"] == user) & (rating[\"rating\"] == 5.0)]. \\\n",
    "    sort_values(by=\"timestamp\", ascending=False)[\"movieId\"][0:1].values[0]"
   ]
  },
  {
   "cell_type": "code",
   "execution_count": 10,
   "id": "45458943",
   "metadata": {
    "execution": {
     "iopub.execute_input": "2024-07-04T20:31:43.864332Z",
     "iopub.status.busy": "2024-07-04T20:31:43.862618Z",
     "iopub.status.idle": "2024-07-04T20:31:45.841527Z",
     "shell.execute_reply": "2024-07-04T20:31:45.840771Z"
    },
    "papermill": {
     "duration": 1.996087,
     "end_time": "2024-07-04T20:31:45.841684",
     "exception": false,
     "start_time": "2024-07-04T20:31:43.845597",
     "status": "completed"
    },
    "tags": []
   },
   "outputs": [],
   "source": [
    "def item_based_recommender(movie_name, user_movie_df):\n",
    "    movie = user_movie_df[movie_name]\n",
    "    return user_movie_df.corrwith(movie).sort_values(ascending=False).head(10)\n",
    "\n",
    "\n",
    "movies_from_item_based = item_based_recommender(movie[movie[\"movieId\"] == movie_id][\"title\"].values[0], user_movie_df)"
   ]
  },
  {
   "cell_type": "code",
   "execution_count": 11,
   "id": "be78b78b",
   "metadata": {
    "execution": {
     "iopub.execute_input": "2024-07-04T20:31:45.872581Z",
     "iopub.status.busy": "2024-07-04T20:31:45.871756Z",
     "iopub.status.idle": "2024-07-04T20:31:45.876354Z",
     "shell.execute_reply": "2024-07-04T20:31:45.875646Z"
    },
    "papermill": {
     "duration": 0.023344,
     "end_time": "2024-07-04T20:31:45.876533",
     "exception": false,
     "start_time": "2024-07-04T20:31:45.853189",
     "status": "completed"
    },
    "tags": []
   },
   "outputs": [
    {
     "data": {
      "text/plain": [
       "title\n",
       "My Science Project (1985)                0.570187\n",
       "Mediterraneo (1991)                      0.538868\n",
       "Old Man and the Sea, The (1958)          0.536192\n",
       "National Lampoon's Senior Trip (1995)    0.533029\n",
       "Clockwatchers (1997)                     0.483337\n",
       "dtype: float64"
      ]
     },
     "execution_count": 11,
     "metadata": {},
     "output_type": "execute_result"
    }
   ],
   "source": [
    "#1 to 6th. 0 has the movie itself. We left him out.\n",
    "movies_from_item_based[1:6]"
   ]
  }
 ],
 "metadata": {
  "kaggle": {
   "accelerator": "none",
   "dataSources": [
    {
     "datasetId": 3405,
     "sourceId": 6663,
     "sourceType": "datasetVersion"
    },
    {
     "datasetId": 339,
     "sourceId": 77759,
     "sourceType": "datasetVersion"
    }
   ],
   "dockerImageVersionId": 30152,
   "isGpuEnabled": false,
   "isInternetEnabled": true,
   "language": "python",
   "sourceType": "notebook"
  },
  "kernelspec": {
   "display_name": "Python 3",
   "language": "python",
   "name": "python3"
  },
  "language_info": {
   "codemirror_mode": {
    "name": "ipython",
    "version": 3
   },
   "file_extension": ".py",
   "mimetype": "text/x-python",
   "name": "python",
   "nbconvert_exporter": "python",
   "pygments_lexer": "ipython3",
   "version": "3.7.12"
  },
  "papermill": {
   "default_parameters": {},
   "duration": 136.365912,
   "end_time": "2024-07-04T20:31:46.902042",
   "environment_variables": {},
   "exception": null,
   "input_path": "__notebook__.ipynb",
   "output_path": "__notebook__.ipynb",
   "parameters": {},
   "start_time": "2024-07-04T20:29:30.536130",
   "version": "2.3.3"
  }
 },
 "nbformat": 4,
 "nbformat_minor": 5
}
